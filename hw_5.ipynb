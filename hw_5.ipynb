{
 "cells": [
  {
   "cell_type": "markdown",
   "metadata": {},
   "source": [
    "### Практические задания к уроку 5\n",
    "Тема “Элементы теории вероятностей”"
   ]
  },
  {
   "cell_type": "markdown",
   "metadata": {},
   "source": [
    "1. Напишите код, моделирующий выпадение поля в рулетке (с учетом поля зеро)."
   ]
  },
  {
   "cell_type": "code",
   "execution_count": 2,
   "metadata": {},
   "outputs": [],
   "source": [
    "%matplotlib inline\n",
    "import numpy as np\n",
    "import matplotlib.pyplot as plt"
   ]
  },
  {
   "cell_type": "code",
   "execution_count": null,
   "metadata": {},
   "outputs": [],
   "source": [
    "np.random.uniform(0,1)"
   ]
  },
  {
   "cell_type": "code",
   "execution_count": 6,
   "metadata": {
    "scrolled": true
   },
   "outputs": [
    {
     "name": "stdout",
     "output_type": "stream",
     "text": [
      "\n",
      "красное 35\n",
      "\n",
      "черное 28\n",
      "\n",
      "черное 20\n",
      "\n",
      "зеро 0\n",
      "\n",
      "красное 5\n"
     ]
    }
   ],
   "source": [
    "for i in range(0,5):\n",
    "    a = input()\n",
    "    x = np.random.randint(0,36)\n",
    "    if x==0:\n",
    "        print('зеро', x)\n",
    "    elif (x%2) == 1:\n",
    "        print('красное', x)\n",
    "    else:\n",
    "        print('черное', x)"
   ]
  },
  {
   "cell_type": "markdown",
   "metadata": {},
   "source": [
    "#### 2. \n",
    "1)Напишите код, проверяющий любую из теорем сложения или умножения вероятности на примере рулетки или подбрасывания монетки."
   ]
  },
  {
   "cell_type": "code",
   "execution_count": 38,
   "metadata": {},
   "outputs": [
    {
     "name": "stdout",
     "output_type": "stream",
     "text": [
      "решка выпала 3  раз из 20  вероятность =  0.15\n",
      "орел выпал 17  раз из 20  вероятность =  0.85\n",
      "сумма вероятностей =  1.0\n"
     ]
    }
   ],
   "source": [
    "n = 20\n",
    "k, m = 0, 0\n",
    "\n",
    "for i in range(0,n):\n",
    "    x = np.random.uniform(0,10)\n",
    "    if x<5:\n",
    "        k+=1\n",
    "#         print('решка')\n",
    "    else:\n",
    "        m+=1\n",
    "#         print('орел')\n",
    "print(f'решка выпала',k,' раз из', n, ' вероятность = ', k/n)\n",
    "print(f'орел выпал',m,' раз из', n, ' вероятность = ', m/n)\n",
    "print('сумма вероятностей = ', (k/n)+(m/n))"
   ]
  },
  {
   "cell_type": "markdown",
   "metadata": {},
   "source": [
    "2)Сгенерируйте десять выборок случайных чисел х0, …, х9.\n",
    "и постройте гистограмму распределения случайной суммы х0+х1+ …+ х9."
   ]
  },
  {
   "cell_type": "code",
   "execution_count": 23,
   "metadata": {
    "scrolled": true
   },
   "outputs": [
    {
     "name": "stdout",
     "output_type": "stream",
     "text": [
      "6.998834644252871\n",
      "2.602302878110687\n",
      "5.177641660890535\n",
      "6.324142300644977\n",
      "4.365338190289257\n",
      "3.2082178587155705\n",
      "4.236833613123956\n",
      "5.219192369832194\n",
      "3.937852078197179\n",
      "7.569802221415045\n"
     ]
    }
   ],
   "source": [
    "x = []\n",
    "for i in range(0,10):\n",
    "    k = np.random.rand(10)\n",
    "    print(k.sum())\n",
    "    x.append(k.sum())"
   ]
  },
  {
   "cell_type": "code",
   "execution_count": 27,
   "metadata": {
    "scrolled": true
   },
   "outputs": [
    {
     "data": {
      "image/png": "[encoded data removed]",
      "text/plain": [
       "<Figure size 432x288 with 1 Axes>"
      ]
     },
     "metadata": {
      "needs_background": "light"
     },
     "output_type": "display_data"
    }
   ],
   "source": [
    "num_bins = 5\n",
    "n, bins, patches = plt.hist(x, num_bins)\n",
    "\n",
    "plt.xlabel('х0+х1+ …+ х9')\n",
    "plt.ylabel('Probability')\n",
    "plt.show()"
   ]
  },
  {
   "cell_type": "markdown",
   "metadata": {},
   "source": [
    "#### 3.\n",
    "Дополните код Монте-Карло последовательности независимых испытаний расчетом соответствующих вероятностей (через биномиальное распределение) \n",
    "и сравните результаты."
   ]
  },
  {
   "cell_type": "code",
   "execution_count": 42,
   "metadata": {},
   "outputs": [],
   "source": [
    "import itertools\n",
    "import math"
   ]
  },
  {
   "cell_type": "code",
   "execution_count": 63,
   "metadata": {},
   "outputs": [
    {
     "name": "stdout",
     "output_type": "stream",
     "text": [
      "3 10 0.3\n",
      "0.1171875\n"
     ]
    }
   ],
   "source": [
    "k, n = 0, 10\n",
    "a = np.random.randint(0, 2, n)\n",
    "b = np.random.randint(0, 2, n)\n",
    "c = np.random.randint(0, 2, n)\n",
    "d = np.random.randint(0, 2, n)\n",
    "x = a+b+c+d\n",
    "for i in range(0, n):\n",
    "    if x[i] == 2:\n",
    "        k+=1\n",
    "# print(a,b,c,d)\n",
    "# print(x)\n",
    "print(k, n, k/n)\n",
    "c_n_k = math.factorial(n)/(math.factorial(k) * math.factorial(n-k) )\n",
    "# print(c_n_k)\n",
    "P_x = c_n_k / (2**n)\n",
    "print(P_x)"
   ]
  },
  {
   "cell_type": "markdown",
   "metadata": {},
   "source": [
    "Повторите расчеты биномиальных коэффициентов и вероятностей k успехов в последовательности из n независимых испытаний, взяв другие значения n и k."
   ]
  },
  {
   "cell_type": "code",
   "execution_count": 71,
   "metadata": {},
   "outputs": [],
   "source": [
    "def monte(m, n):\n",
    "    k=0\n",
    "    a = np.random.randint(0, 2, n)\n",
    "    b = np.random.randint(0, 2, n)\n",
    "    c = np.random.randint(0, 2, n)\n",
    "    d = np.random.randint(0, 2, n)\n",
    "    x = a+b+c+d\n",
    "    for i in range(0, n):\n",
    "        if x[i] == m:\n",
    "            k+=1\n",
    "    print(k, n, k/n)\n",
    "    c_n_k = math.factorial(n)/(math.factorial(k) * math.factorial(n-k) )\n",
    "    P_x = c_n_k / (2**n)\n",
    "    print(P_x)"
   ]
  },
  {
   "cell_type": "code",
   "execution_count": 72,
   "metadata": {
    "scrolled": true
   },
   "outputs": [
    {
     "name": "stdout",
     "output_type": "stream",
     "text": [
      "5 10 0.5\n",
      "0.24609375\n"
     ]
    }
   ],
   "source": [
    "monte(2,10)"
   ]
  },
  {
   "cell_type": "markdown",
   "metadata": {},
   "source": [
    "#### 4. \n",
    "Из урока по комбинаторике повторите расчеты, сгенерировав возможные варианты перестановок для других значений n и k"
   ]
  },
  {
   "cell_type": "code",
   "execution_count": 74,
   "metadata": {
    "scrolled": true
   },
   "outputs": [
    {
     "name": "stdout",
     "output_type": "stream",
     "text": [
      "000\n",
      "001\n",
      "010\n",
      "011\n",
      "100\n",
      "101\n",
      "110\n",
      "111\n"
     ]
    }
   ],
   "source": [
    "for p in itertools.product('01', repeat=3):\n",
    "    print(''.join(p))"
   ]
  },
  {
   "cell_type": "code",
   "execution_count": 76,
   "metadata": {
    "scrolled": true
   },
   "outputs": [
    {
     "name": "stdout",
     "output_type": "stream",
     "text": [
      "aaa\n",
      "aab\n",
      "aac\n",
      "aba\n",
      "abb\n",
      "abc\n",
      "aca\n",
      "acb\n",
      "acc\n",
      "baa\n",
      "bab\n",
      "bac\n",
      "bba\n",
      "bbb\n",
      "bbc\n",
      "bca\n",
      "bcb\n",
      "bcc\n",
      "caa\n",
      "cab\n",
      "cac\n",
      "cba\n",
      "cbb\n",
      "cbc\n",
      "cca\n",
      "ccb\n",
      "ccc\n"
     ]
    }
   ],
   "source": [
    "for p in itertools.product('abc', repeat=3):\n",
    "    print(''.join(p))"
   ]
  },
  {
   "cell_type": "code",
   "execution_count": 80,
   "metadata": {
    "scrolled": true
   },
   "outputs": [
    {
     "name": "stdout",
     "output_type": "stream",
     "text": [
      "ab\n",
      "ac\n",
      "ad\n",
      "ba\n",
      "bc\n",
      "bd\n",
      "ca\n",
      "cb\n",
      "cd\n",
      "da\n",
      "db\n",
      "dc\n"
     ]
    }
   ],
   "source": [
    "for p in itertools.permutations('abcd', 2):\n",
    "    print(''.join(str(x) for x in p))"
   ]
  },
  {
   "cell_type": "code",
   "execution_count": 81,
   "metadata": {
    "scrolled": true
   },
   "outputs": [
    {
     "name": "stdout",
     "output_type": "stream",
     "text": [
      "ab\n",
      "ac\n",
      "ad\n",
      "bc\n",
      "bd\n",
      "cd\n"
     ]
    }
   ],
   "source": [
    "for p in itertools.combinations('abcd', 2):\n",
    "    print(''.join(str(x) for x in p))"
   ]
  },
  {
   "cell_type": "markdown",
   "metadata": {},
   "source": [
    "#### 5. \n",
    "Дополните код расчетом коэффициента корреляции x и y по формуле"
   ]
  },
  {
   "cell_type": "code",
   "execution_count": 131,
   "metadata": {
    "scrolled": true
   },
   "outputs": [
    {
     "name": "stdout",
     "output_type": "stream",
     "text": [
      "[[1.        0.9944984]\n",
      " [0.9944984 1.       ]]\n"
     ]
    },
    {
     "name": "stderr",
     "output_type": "stream",
     "text": [
      "<ipython-input-131-1e9c0ee89721>:18: FutureWarning: `rcond` parameter will change to the default of machine precision times ``max(M, N)`` where M and N are the input matrix dimensions.\n",
      "To use the future default and silence this warning we advise to pass `rcond=None`, to keep using the old, explicitly pass `rcond=-1`.\n",
      "  a1, b1 = np.linalg.lstsq(A, y)[0]\n"
     ]
    },
    {
     "data": {
      "image/png": "[encoded data removed]",
      "text/plain": [
       "<Figure size 432x288 with 1 Axes>"
      ]
     },
     "metadata": {
      "needs_background": "light"
     },
     "output_type": "display_data"
    },
    {
     "name": "stdout",
     "output_type": "stream",
     "text": [
      "0.9923805445252668\n"
     ]
    }
   ],
   "source": [
    "# n=100\n",
    "# r=0.9\n",
    "# x=np.random.rand(n)\n",
    "# y=r*x+(1-r)*np.random.rand(n)\n",
    "\n",
    "# plt.plot(x, y, 'o')\n",
    "# plt.xlabel('x')\n",
    "# plt.ylabel('y')\n",
    "# plt.grid(True)\n",
    "# # plt.show()\n",
    "# c=np.corrcoef(x,y)\n",
    "# print(c)\n",
    "\n",
    "# a=(np.sum(x)*np.sum(y) - n*np.sum(x*y)) / (np.sum(x)*np.sum(x) - n*np.sum(x*x))\n",
    "# b=(np.sum(y) - a*np.sum(x)) / n\n",
    "\n",
    "# A = np.vstack([x, np.ones(len(x))]).T\n",
    "# a1, b1 = np.linalg.lstsq(A, y)[0]\n",
    "# # print(a, b)\n",
    "# # print(a1, b1)\n",
    "\n",
    "# plt.plot([0,1], [b, a + b])\n",
    "# plt.show()\n",
    "\n",
    "# d= np.sum((x - b1) * (y)) / np.sqrt( np.sum((x - b1)**2) * np.sum((y)**2) )\n",
    "# print(d)"
   ]
  },
  {
   "cell_type": "code",
   "execution_count": 136,
   "metadata": {},
   "outputs": [
    {
     "name": "stdout",
     "output_type": "stream",
     "text": [
      "[[1.         0.99463292]\n",
      " [0.99463292 1.        ]]\n",
      "0.9946329202379951\n"
     ]
    },
    {
     "name": "stderr",
     "output_type": "stream",
     "text": [
      "<ipython-input-136-58674413fa8b>:18: FutureWarning: `rcond` parameter will change to the default of machine precision times ``max(M, N)`` where M and N are the input matrix dimensions.\n",
      "To use the future default and silence this warning we advise to pass `rcond=None`, to keep using the old, explicitly pass `rcond=-1`.\n",
      "  a1, b1 = np.linalg.lstsq(A, y)[0]\n"
     ]
    },
    {
     "data": {
      "image/png": "[encoded data removed]",
      "text/plain": [
       "<Figure size 432x288 with 1 Axes>"
      ]
     },
     "metadata": {
      "needs_background": "light"
     },
     "output_type": "display_data"
    }
   ],
   "source": [
    "n=100\n",
    "r=0.9\n",
    "x=np.random.rand(n)\n",
    "y=r*x+(1-r)*np.random.rand(n)\n",
    "\n",
    "plt.plot(x, y, 'o')\n",
    "plt.xlabel('x')\n",
    "plt.ylabel('y')\n",
    "plt.grid(True)\n",
    "# plt.show()\n",
    "c=np.corrcoef(x,y)\n",
    "print(c)\n",
    "\n",
    "a=(np.sum(x)*np.sum(y) - n*np.sum(x*y)) / (np.sum(x)*np.sum(x) - n*np.sum(x*x))\n",
    "b=(np.sum(y) - a*np.sum(x)) / n\n",
    "\n",
    "A = np.vstack([x, np.ones(len(x))]).T\n",
    "a1, b1 = np.linalg.lstsq(A, y)[0]\n",
    "# print(a, b)\n",
    "# print(a1, b1)\n",
    "\n",
    "plt.plot([0,1], [b, a + b])\n",
    "plt.show()\n",
    "\n",
    "x_mean, y_mean = sum(x)/n, sum(y)/n\n",
    "\n",
    "r= np.sum((x - x_mean) * (y - y_mean)) / np.sqrt( np.sum((x - x_mean)**2) * np.sum((y -y_mean)**2) )\n",
    "print(r)"
   ]
  }
 ],
 "metadata": {
  "kernelspec": {
   "display_name": "Python 3",
   "language": "python",
   "name": "python3"
  },
  "language_info": {
   "codemirror_mode": {
    "name": "ipython",
    "version": 3
   },
   "file_extension": ".py",
   "mimetype": "text/x-python",
   "name": "python",
   "nbconvert_exporter": "python",
   "pygments_lexer": "ipython3",
   "version": "3.8.3"
  }
 },
 "nbformat": 4,
 "nbformat_minor": 4
}
